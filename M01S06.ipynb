{
 "cells": [
  {
   "cell_type": "markdown",
   "metadata": {},
   "source": [
    "# STUDY GROUP - M01S06\n",
    "## Object Oriented Programming (OOP)"
   ]
  },
  {
   "cell_type": "markdown",
   "metadata": {},
   "source": [
    "### Objectives\n",
    "You will be able to:\n",
    "* understand the difference between classes and instances\n",
    "* understand the difference between instance methods and variables\n",
    "* understand and properly use self argument when defining classes\n",
    "* properly use object attributes and properties for getter/setter methods"
   ]
  },
  {
   "cell_type": "markdown",
   "metadata": {},
   "source": [
    "### Classes and Instances"
   ]
  },
  {
   "cell_type": "code",
   "execution_count": 21,
   "metadata": {},
   "outputs": [],
   "source": [
    " class Ride: # define class object, i.e. blueprint from which we can generate instances\n",
    "    # code for distance, attribute\n",
    "    # code for time, attribute\n",
    "    # code for price, attribute\n",
    "    # code to start a ride, method\n",
    "    # code to end a ride, method\n",
    "    pass"
   ]
  },
  {
   "cell_type": "code",
   "execution_count": 2,
   "metadata": {},
   "outputs": [
    {
     "name": "stdout",
     "output_type": "stream",
     "text": [
      "first_ride: <__main__.Ride object at 0x10b5b5f98>\n",
      "second_ride: <__main__.Ride object at 0x10b5b5f60>\n",
      "Are first_ride and second_ride the same thing?: False\n",
      "Is first_ride equal to itself? True\n"
     ]
    }
   ],
   "source": [
    "first_ride = Ride() # instantiate an instance of the class Ride\n",
    "second_ride = Ride()\n",
    "\n",
    "print('first_ride:', first_ride)    # notice both instances have identical attributes and methods but DIFFERENT location IDs in computer memory\n",
    "print('second_ride:', second_ride)\n",
    "print('Are first_ride and second_ride the same thing?:', first_ride == second_ride)\n",
    "print('Is first_ride equal to itself?', first_ride is first_ride)"
   ]
  },
  {
   "cell_type": "markdown",
   "metadata": {},
   "source": [
    "### Instance Methods, Variables, and Self"
   ]
  },
  {
   "cell_type": "markdown",
   "metadata": {},
   "source": [
    "* method - is a function that is bound to a class or instances of that class\n",
    "    1. method is **implicity** passed the object on which it is called\n",
    "* instance methods - object functions that are **callable** attributess of an instance object, i.e. dot notation\n",
    "* instance variable - variable callable from instance object only"
   ]
  },
  {
   "cell_type": "code",
   "execution_count": 3,
   "metadata": {},
   "outputs": [],
   "source": [
    "class Dog():\n",
    "    # instance method\n",
    "    def bark():\n",
    "        return \"I'm an instance method! Oh and... ruff ruff!\""
   ]
  },
  {
   "cell_type": "code",
   "execution_count": 31,
   "metadata": {},
   "outputs": [
    {
     "name": "stdout",
     "output_type": "stream",
     "text": [
      "Dog age: 2\n",
      "Dog breed: mutt\n",
      "Fido.age 2\n",
      "Rex.age 1.5\n"
     ]
    },
    {
     "data": {
      "text/plain": [
       "'I am actually going to bark this time. bark!'"
      ]
     },
     "execution_count": 31,
     "metadata": {},
     "output_type": "execute_result"
    }
   ],
   "source": [
    "new_rex = Dog()\n",
    "# instance attributes, NOTICE no need for parentheses to call instance attribute (Adjective, description)\n",
    "new_rex.breed = 'Golden Doodle'\n",
    "new_rex.age = 1.5\n",
    "new_fido = Dog()\n",
    "new_fido.age\n",
    "print('Dog age:', Dog.age)\n",
    "print('Dog breed:', Dog.breed)\n",
    "print('Fido.age', new_fido.age)\n",
    "print('Rex.age', new_rex.age)\n",
    "# instance methods, NOTICE must use parentheses to call instance method (Verb, action)\n",
    "new_rex.bark\n",
    "new_rex.bark()"
   ]
  },
  {
   "cell_type": "code",
   "execution_count": 29,
   "metadata": {},
   "outputs": [
    {
     "data": {
      "text/plain": [
       "'mutt'"
      ]
     },
     "execution_count": 29,
     "metadata": {},
     "output_type": "execute_result"
    }
   ],
   "source": [
    "new_rex.breed\n",
    "#new_rex.age"
   ]
  },
  {
   "cell_type": "markdown",
   "metadata": {},
   "source": [
    "* Since instance methods implicity pass the object itself as an argument we need to define our method with at least 1 parameter, self"
   ]
  },
  {
   "cell_type": "code",
   "execution_count": 7,
   "metadata": {},
   "outputs": [],
   "source": [
    "class Dog():\n",
    "    \n",
    "    def bark(self):\n",
    "        return \"I am actually going to bark this time. bark!\"\n",
    "        \n",
    "    def who_am_i(self):\n",
    "        return self"
   ]
  },
  {
   "cell_type": "code",
   "execution_count": 8,
   "metadata": {},
   "outputs": [
    {
     "data": {
      "text/plain": [
       "'I am actually going to bark this time. bark!'"
      ]
     },
     "execution_count": 8,
     "metadata": {},
     "output_type": "execute_result"
    }
   ],
   "source": [
    "newest_rex = Dog()\n",
    "newest_rex.bark()"
   ]
  },
  {
   "cell_type": "code",
   "execution_count": 10,
   "metadata": {},
   "outputs": [
    {
     "name": "stdout",
     "output_type": "stream",
     "text": [
      "3. True\n",
      "4. True\n"
     ]
    }
   ],
   "source": [
    "fido = Dog()\n",
    "print(\"3.\", fido == fido.who_am_i()) \n",
    "print(\"4.\", newest_rex == newest_rex.who_am_i()) \n",
    "# again asserting that `self` is equal to the instance object on which who_am_i was called"
   ]
  },
  {
   "cell_type": "markdown",
   "metadata": {},
   "source": [
    "### Object Attributes - Getter and Setter Methods, and Properties"
   ]
  },
  {
   "cell_type": "markdown",
   "metadata": {},
   "source": [
    "* private instance variables - makes our programes more secure, prevents users from making unwanted changes by having direct access to object attributes and methods, marked by underscore before variable/attribute name (i.e. _attribute)\n",
    "* setters/getters - methods that provide **indirect** access to object methods \n",
    "    1. setters directly alter instance object methods\n",
    "    2. getters only access the information stored in instance object methods\n",
    "* properties - allow us to access setter and getter methods in one call that appears as an object attribute"
   ]
  },
  {
   "cell_type": "code",
   "execution_count": 38,
   "metadata": {},
   "outputs": [
    {
     "name": "stdout",
     "output_type": "stream",
     "text": [
      "1. 0\n",
      "2. None\n",
      "3. 1000\n",
      "4. Sorry, you do not have enough funds to withdrawal $1000 and maintain your minimum balance of $250\n",
      "5. $100\n",
      "6. Sorry, your maximum withdraw amount is 150\n",
      "7. Thank you for the deposit of $250. Your balance is now: $1150.0\n",
      "8. Thank you for the deposit of $2.5. Your balance is now: $1152.5\n",
      "9. hello is not a number\n",
      "10. {'_balance': 1152.5, '_minimum_balance': 250, '_max_withdrawal': 150}\n"
     ]
    },
    {
     "ename": "AttributeError",
     "evalue": "'BankAccount' object has no attribute '_balance'",
     "output_type": "error",
     "traceback": [
      "\u001b[0;31m---------------------------------------------------------------------------\u001b[0m",
      "\u001b[0;31mAttributeError\u001b[0m                            Traceback (most recent call last)",
      "\u001b[0;32m<ipython-input-38-c6810849ff29>\u001b[0m in \u001b[0;36m<module>\u001b[0;34m\u001b[0m\n\u001b[1;32m     62\u001b[0m \u001b[0;34m\u001b[0m\u001b[0m\n\u001b[1;32m     63\u001b[0m \u001b[0maccount_twoA\u001b[0m \u001b[0;34m=\u001b[0m \u001b[0mBankAccount\u001b[0m\u001b[0;34m(\u001b[0m\u001b[0;34m)\u001b[0m\u001b[0;34m\u001b[0m\u001b[0;34m\u001b[0m\u001b[0m\n\u001b[0;32m---> 64\u001b[0;31m \u001b[0mprint\u001b[0m\u001b[0;34m(\u001b[0m\u001b[0;34m\"1A.\"\u001b[0m\u001b[0;34m,\u001b[0m \u001b[0maccount_twoA\u001b[0m\u001b[0;34m.\u001b[0m\u001b[0mget_balance\u001b[0m\u001b[0;34m(\u001b[0m\u001b[0;34m)\u001b[0m\u001b[0;34m)\u001b[0m\u001b[0;34m\u001b[0m\u001b[0;34m\u001b[0m\u001b[0m\n\u001b[0m\u001b[1;32m     65\u001b[0m \u001b[0mprint\u001b[0m\u001b[0;34m(\u001b[0m\u001b[0;34m\"2A.\"\u001b[0m\u001b[0;34m,\u001b[0m \u001b[0maccount_twoA\u001b[0m\u001b[0;34m.\u001b[0m\u001b[0mset_balance\u001b[0m\u001b[0;34m(\u001b[0m\u001b[0;36m1000\u001b[0m\u001b[0;34m)\u001b[0m\u001b[0;34m)\u001b[0m \u001b[0;31m# returns None since assignment returns None\u001b[0m\u001b[0;34m\u001b[0m\u001b[0;34m\u001b[0m\u001b[0m\n\u001b[1;32m     66\u001b[0m \u001b[0mprint\u001b[0m\u001b[0;34m(\u001b[0m\u001b[0;34m\"3A.\"\u001b[0m\u001b[0;34m,\u001b[0m \u001b[0maccount_twoA\u001b[0m\u001b[0;34m.\u001b[0m\u001b[0mget_balance\u001b[0m\u001b[0;34m(\u001b[0m\u001b[0;34m)\u001b[0m\u001b[0;34m)\u001b[0m\u001b[0;34m\u001b[0m\u001b[0;34m\u001b[0m\u001b[0m\n",
      "\u001b[0;32m<ipython-input-38-c6810849ff29>\u001b[0m in \u001b[0;36mget_balance\u001b[0;34m(self)\u001b[0m\n\u001b[1;32m     10\u001b[0m \u001b[0;34m\u001b[0m\u001b[0m\n\u001b[1;32m     11\u001b[0m     \u001b[0;32mdef\u001b[0m \u001b[0mget_balance\u001b[0m\u001b[0;34m(\u001b[0m\u001b[0mself\u001b[0m\u001b[0;34m)\u001b[0m\u001b[0;34m:\u001b[0m\u001b[0;34m\u001b[0m\u001b[0;34m\u001b[0m\u001b[0m\n\u001b[0;32m---> 12\u001b[0;31m         \u001b[0;32mreturn\u001b[0m \u001b[0mself\u001b[0m\u001b[0;34m.\u001b[0m\u001b[0m_balance\u001b[0m\u001b[0;34m\u001b[0m\u001b[0;34m\u001b[0m\u001b[0m\n\u001b[0m\u001b[1;32m     13\u001b[0m \u001b[0;34m\u001b[0m\u001b[0m\n\u001b[1;32m     14\u001b[0m     \u001b[0;32mdef\u001b[0m \u001b[0mmake_withdrawal\u001b[0m\u001b[0;34m(\u001b[0m\u001b[0mself\u001b[0m\u001b[0;34m,\u001b[0m \u001b[0mamount_requested\u001b[0m\u001b[0;34m)\u001b[0m\u001b[0;34m:\u001b[0m\u001b[0;34m\u001b[0m\u001b[0;34m\u001b[0m\u001b[0m\n",
      "\u001b[0;31mAttributeError\u001b[0m: 'BankAccount' object has no attribute '_balance'"
     ]
    }
   ],
   "source": [
    "# class definition WITHOUT using property() for getter/setter methods \n",
    "class BankAccount():\n",
    "    # set class properties\n",
    "    BankAccount._balance = 5\n",
    "    BankAccount._minimum_balance = 100\n",
    "    BankAccount._max_withdrawal = 500 \n",
    "    \n",
    "    def set_balance(self, amount):\n",
    "        self._balance += amount\n",
    "    \n",
    "    def get_balance(self):\n",
    "        return self._balance\n",
    "        \n",
    "    def make_withdrawal(self, amount_requested):\n",
    "        if (self.check_min_bal(amount_requested)):\n",
    "            return self.check_min_bal(amount_requested)\n",
    "        if (self.check_max_withdrawal(amount_requested)):\n",
    "            return self.check_max_withdrawal(amount_requested)\n",
    "        else: \n",
    "            self.set_balance(-amount_requested)\n",
    "            return f\"${amount_requested}\"\n",
    "            \n",
    "    def check_min_bal(self, amount_requested): # called by make_withdrawl\n",
    "        if ((self.get_balance() - amount_requested) > self._minimum_balance):\n",
    "            return False\n",
    "        else:\n",
    "            return f\"Sorry, you do not have enough funds to withdrawal ${amount_requested} and maintain your minimum balance of ${self._minimum_balance}\"\n",
    "    \n",
    "    def check_max_withdrawal(self, amount_requested): # called by make_withdrawl\n",
    "        if (self._max_withdrawal > amount_requested):\n",
    "            return False\n",
    "        else:\n",
    "            return f\"Sorry, your maximum withdraw amount is {self._max_withdrawal}\"\n",
    "        \n",
    "    def make_deposit(self, amount_to_deposit):\n",
    "        try: \n",
    "            (float(amount_to_deposit))\n",
    "            self.set_balance((float(amount_to_deposit)))\n",
    "            return f\"Thank you for the deposit of ${amount_to_deposit}. Your balance is now: ${self._balance}\"\n",
    "        except:\n",
    "            return f\"{amount_to_deposit} is not a number\"\n",
    "\n",
    "# just a regular function that makes an account and initializes its properties... what a good idea\n",
    "def make_account():\n",
    "    new_account = BankAccount()\n",
    "    new_account._balance = 0\n",
    "    new_account._minimum_balance = 250\n",
    "    new_account._max_withdrawal = 150 \n",
    "    return new_account\n",
    "\n",
    "account_two = make_account()\n",
    "print(\"1.\", account_two.get_balance())\n",
    "print(\"2.\", account_two.set_balance(1000)) # returns None since assignment returns None\n",
    "print(\"3.\", account_two.get_balance())\n",
    "print(\"4.\", account_two.make_withdrawal(1000))\n",
    "print(\"5.\", account_two.make_withdrawal(100))\n",
    "print(\"6.\", account_two.make_withdrawal(300))\n",
    "print(\"7.\", account_two.make_deposit(250))\n",
    "print(\"8.\", account_two.make_deposit(2.50))\n",
    "print(\"9.\", account_two.make_deposit(\"hello\"))\n",
    "print(\"10.\", vars(account_two))\n",
    "\n",
    "account_twoA = BankAccount()\n",
    "print(\"1A.\", account_twoA.get_balance())\n",
    "print(\"2A.\", account_twoA.set_balance(1000)) # returns None since assignment returns None\n",
    "print(\"3A.\", account_twoA.get_balance())\n",
    "print(\"4A.\", account_twoA.make_withdrawal(1000))\n",
    "print(\"5A.\", account_twoA.make_withdrawal(100))\n",
    "print(\"6A.\", account_twoA.make_withdrawal(300))\n",
    "print(\"7A.\", account_twoA.make_deposit(250))\n",
    "print(\"8A.\", account_twoA.make_deposit(2.50))\n",
    "print(\"9A.\", account_twoA.make_deposit(\"hello\"))\n",
    "print(\"10A.\", vars(account_two))"
   ]
  },
  {
   "cell_type": "code",
   "execution_count": 36,
   "metadata": {},
   "outputs": [
    {
     "name": "stdout",
     "output_type": "stream",
     "text": [
      "GETTING BALANCE\n",
      "1. 0\n",
      "SETTING BALANCE\n",
      "2. None\n",
      "GETTING BALANCE\n",
      "3. 1000\n",
      "GETTING BALANCE\n",
      "GETTING BALANCE\n",
      "4. Sorry, you do not have enough funds to withdrawal $1000 and maintain your minimum balance of $250\n",
      "GETTING BALANCE\n",
      "SETTING BALANCE\n",
      "5. $100\n",
      "GETTING BALANCE\n",
      "6. Sorry, your maximum withdraw amount is 150\n",
      "SETTING BALANCE\n",
      "7. Thank you for the deposit of $250. Your balance is now: $1150.0\n",
      "SETTING BALANCE\n",
      "8. Thank you for the deposit of $2.5. Your balance is now: $1152.5\n",
      "9. hello is not a number\n",
      "10. {'_balance': 1152.5, '_minimum_balance': 250, '_max_withdrawal': 150}\n"
     ]
    }
   ],
   "source": [
    "# class definition WITH property() for getter/setter methods\n",
    "class BankAccount():\n",
    "    \n",
    "    def set_balance(self, amount):\n",
    "        print(\"SETTING BALANCE\")\n",
    "        self._balance += amount\n",
    "    \n",
    "    def get_balance(self):\n",
    "        print(\"GETTING BALANCE\")\n",
    "        return self._balance\n",
    "        \n",
    "    def make_withdrawal(self, amount_requested):\n",
    "        if (self.check_min_bal(amount_requested)):\n",
    "            return self.check_min_bal(amount_requested)\n",
    "        if (self.check_max_withdrawal(amount_requested)):\n",
    "            return self.check_max_withdrawal(amount_requested)\n",
    "        else: \n",
    "# ----------- NOTE THE CHANGE FROM self.set_balance(amount) TO self.balance = amount --------------- #\n",
    "            self.balance = -amount_requested\n",
    "            return f\"${amount_requested}\"\n",
    "            \n",
    "    def check_min_bal(self, amount_requested):\n",
    "# ----------- NOTE THE CHANGE FROM self.get_balance() TO self.balance = --------------- #\n",
    "        if ((self.balance - amount_requested) > self._minimum_balance): \n",
    "            return False\n",
    "        else:\n",
    "            return f\"Sorry, you do not have enough funds to withdrawal ${amount_requested} and maintain your minimum balance of ${self._minimum_balance}\"\n",
    "    \n",
    "    def check_max_withdrawal(self, amount_requested):\n",
    "        if (self._max_withdrawal > amount_requested):\n",
    "            return False\n",
    "        else:\n",
    "            return f\"Sorry, your maximum withdraw amount is {self._max_withdrawal}\"\n",
    "        \n",
    "    def make_deposit(self, amount_to_deposit):\n",
    "        try: \n",
    "            (float(amount_to_deposit))\n",
    "# ----------- NOTE THE CHANGE FROM self.set_balance(amount) TO self.balance = amount --------------- #\n",
    "            self.balance = float(amount_to_deposit)\n",
    "            return f\"Thank you for the deposit of ${amount_to_deposit}. Your balance is now: ${self._balance}\"\n",
    "        except:\n",
    "            return f\"{amount_to_deposit} is not a number\"\n",
    "    \n",
    "# ----------- HERE is where we are using the property() function ----------------------------------- #\n",
    "    balance = property(get_balance, set_balance)\n",
    "\n",
    "    \n",
    "    \n",
    "# just a non-class function that makes an account and initializes its properties... what a good idea\n",
    "def make_account():\n",
    "    new_account = BankAccount()\n",
    "    new_account._balance = 0\n",
    "    new_account._minimum_balance = 250\n",
    "    new_account._max_withdrawal = 150 \n",
    "    return new_account\n",
    "\n",
    "account_three = make_account()\n",
    "print(\"1.\", account_three.get_balance())\n",
    "print(\"2.\", account_three.set_balance(1000)) # returns None since assignment returns None\n",
    "print(\"3.\", account_three.get_balance())\n",
    "print(\"4.\", account_three.make_withdrawal(1000))\n",
    "print(\"5.\", account_three.make_withdrawal(100))\n",
    "print(\"6.\", account_three.make_withdrawal(300))\n",
    "print(\"7.\", account_three.make_deposit(250))\n",
    "print(\"8.\", account_three.make_deposit(2.50))\n",
    "print(\"9.\", account_three.make_deposit(\"hello\"))\n",
    "print(\"10.\", vars(account_three))"
   ]
  },
  {
   "cell_type": "code",
   "execution_count": null,
   "metadata": {},
   "outputs": [],
   "source": []
  }
 ],
 "metadata": {
  "kernelspec": {
   "display_name": "Python 3",
   "language": "python",
   "name": "python3"
  },
  "language_info": {
   "codemirror_mode": {
    "name": "ipython",
    "version": 3
   },
   "file_extension": ".py",
   "mimetype": "text/x-python",
   "name": "python",
   "nbconvert_exporter": "python",
   "pygments_lexer": "ipython3",
   "version": "3.7.1"
  }
 },
 "nbformat": 4,
 "nbformat_minor": 2
}
